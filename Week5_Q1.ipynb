{
  "nbformat": 4,
  "nbformat_minor": 0,
  "metadata": {
    "colab": {
      "provenance": [],
      "authorship_tag": "ABX9TyMJpgOvdyjJ3sy62i9U5v8s",
      "include_colab_link": true
    },
    "kernelspec": {
      "name": "python3",
      "display_name": "Python 3"
    },
    "language_info": {
      "name": "python"
    }
  },
  "cells": [
    {
      "cell_type": "markdown",
      "metadata": {
        "id": "view-in-github",
        "colab_type": "text"
      },
      "source": [
        "<a href=\"https://colab.research.google.com/github/heeya9090/python/blob/main/Week5_Q1.ipynb\" target=\"_parent\"><img src=\"https://colab.research.google.com/assets/colab-badge.svg\" alt=\"Open In Colab\"/></a>"
      ]
    },
    {
      "cell_type": "markdown",
      "source": [
        "# **스스로 문제 해결**"
      ],
      "metadata": {
        "id": "L00hMGKntoVU"
      }
    },
    {
      "cell_type": "markdown",
      "source": [
        "# Q1. 학번과 이름 출력\n",
        "본인의 학번과 이름을 입력 받아, 콤마(,)를 이용하여 출력해보세요.\n",
        "\n",
        "[실행 결과]<br>\n",
        "학번 입력 : 202300000 [Enter]<br>\n",
        "이름 입력 : 파이썬 [Enter]<br>\n",
        "학번은 202300000 이고, 이름은 파이썬 입니다."
      ],
      "metadata": {
        "id": "vgKQm1FyuOix"
      }
    },
    {
      "cell_type": "code",
      "source": [
        "# 학번, 이름\n",
        "# 데이터 수집\n",
        "\n",
        "\n",
        "\n",
        "\n",
        "# 출력\n"
      ],
      "metadata": {
        "id": "KGSfSLrt8nAw"
      },
      "execution_count": null,
      "outputs": []
    },
    {
      "cell_type": "markdown",
      "source": [
        "# Q2. 삼각형의 넓이\n",
        "밑변과 높이를 입력 받아 삼각형의 넓이를 계산한 후, 형식문자(% 형식지정자)를 이용하여 출력해보세요.\n",
        "\n",
        "[실행 결과]<br>\n",
        "밑변의 길이 : 3.5 [Enter]<br>\n",
        "높이의 길이 : 9.7 [Enter]<br>\n",
        "밑변 3.50, 높이 9.70 인 삼각형의 넓이는 16.97 입니다."
      ],
      "metadata": {
        "id": "RR4C9Hws700I"
      }
    },
    {
      "cell_type": "code",
      "source": [
        "# 데이터 수집\n",
        "\n",
        "\n",
        "\n",
        "\n",
        "# 처리(계산)\n",
        "\n",
        "\n",
        "\n",
        "# 출력\n",
        "\n"
      ],
      "metadata": {
        "id": "q-0_Hnya9HeY"
      },
      "execution_count": null,
      "outputs": []
    },
    {
      "cell_type": "markdown",
      "source": [
        "# Q3. 수온 계산기\n",
        "해수면에서 10m 내려갈 때마다 수온이 0.7도씩 내려간다고 가정할 때, 수심을 입력하면 수온을 계산하는 프로그램을 만들어보세요<br>\n",
        " - 단, 해수면의 온도는 20도\n",
        " -  형식문자(% 형식지정자)를 이용하여 출력\n",
        "\n",
        "[실행 결과]<br>\n",
        "수심을 입력하세요. 35[Enter]<br>\n",
        "수온 : 17.9"
      ],
      "metadata": {
        "id": "9RZmP63ny51c"
      }
    },
    {
      "cell_type": "code",
      "source": [
        "# 데이터 수집\n",
        "\n",
        "\n",
        "\n",
        "# 처리(계산)\n",
        "\n",
        "\n",
        "\n",
        "# 출력\n",
        "\n",
        "\n"
      ],
      "metadata": {
        "id": "W-jIPY-5-OZI"
      },
      "execution_count": null,
      "outputs": []
    },
    {
      "cell_type": "markdown",
      "source": [
        "# Q4. 사각형의 넓이\n",
        "가로와 세로 길이를 입력 받아 사각형의 넓이를 계산한 후, f-string을 이용하여 출력해보세요.<br>\n",
        "\n",
        "[실행 결과]<br>\n",
        "가로 길이 입력 : 10 [Enter]<br>\n",
        "세로 길이 입력 : 20 [Enter]<br>\n",
        "가로: 10cm, 세로: 20cm, 넓이 : 200cm²\n",
        "\n",
        "※ \" ㎠ \" 입력 : 한글 \"ㄹ\" 입력한 후 한자키"
      ],
      "metadata": {
        "id": "tIBl907Ev4ng"
      }
    },
    {
      "cell_type": "code",
      "source": [
        "# 데이터 수집\n",
        "\n",
        "\n",
        "\n",
        "# 처리(계산)\n",
        "\n",
        "\n",
        "\n",
        "# 출력\n",
        "\n",
        "\n"
      ],
      "metadata": {
        "id": "OR9nv7DH4aZ5"
      },
      "execution_count": null,
      "outputs": []
    },
    {
      "cell_type": "markdown",
      "source": [
        "# Q5. 시,분, 초 계산\n",
        "시간의 초를 입력 받아 분과 초를 계산한 후, f-string을 이용하여 출력해보세요.<br>\n",
        "\n",
        "[실행 결과]<br>\n",
        "초 입력 : 3700 [Enter]<br>\n",
        "3700 초 : 1시간 1 분 40초"
      ],
      "metadata": {
        "id": "UoHSi5O_3nnx"
      }
    },
    {
      "cell_type": "code",
      "source": [
        "# 데이터 수집\n",
        "\n",
        "\n",
        "\n",
        "# 처리(계산)\n",
        "\n",
        "\n",
        "\n",
        "# 출력\n",
        "\n"
      ],
      "metadata": {
        "id": "KzP1rwWI7Mmb"
      },
      "execution_count": null,
      "outputs": []
    }
  ]
}